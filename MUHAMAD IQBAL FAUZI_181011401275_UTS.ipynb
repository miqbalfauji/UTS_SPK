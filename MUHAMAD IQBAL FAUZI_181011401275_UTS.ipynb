import numpy as np
import pandas as pd

## tugas bobot
data_bobot = pd.read_csv("C:/Users/hp/Documents/bobot.csv", sep = ";")
# print(data_bobot)

kisaran_harga = np.array(data_bobot["Kisaran harga"])
ketersediaan = np.array(data_bobot["Ketersediaan stok"])
jarak = np.array(data_bobot["Jarak (km)"])
respon = np.array(data_bobot["Respon"])
commerce = np.array(data_bobot["e commerce"])

new_bobot = pd.DataFrame({"kisaran_harga": kisaran_harga, "ketersediaan": ketersediaan, "jarak": jarak, "respon": respon, "commerce" : commerce})
new_bobot = new_bobot.transpose()
# print(new_bobot)
bobot_total = 17

# print(new_bobot[0])
new_data_bobot = []
for i in new_bobot[0]:
    new_data = int(i) / bobot_total
    new_data_bobot.append(new_data)

##tugas table
data_bobot1 = pd.read_csv("C:/Users/hp/Documents/table.csv", sep = ";")
# print(data_bobot)

nama = np.array(data_bobot1["Nama"])
Kisaran_harga = np.array(data_bobot1["Kisaran harga"])
Customer_Service = np.array(data_bobot1["Customer Service"])
Support_System = np.array(data_bobot1["Support System"])
Pilihan_pembayaran = np.array(data_bobot1["Pilihan pembayaran"])
jumlah_server = np.array(data_bobot1["Jumlah Server"])

new_table = pd.DataFrame({"Kisaran_harga":Kisaran_harga , "Customer_Service": Customer_Service,
                          "Support_System": Support_System, "Pilihan_pembayaran" : Pilihan_pembayaran, "jumlah_server" : jumlah_server})

#fungsi jumlah_total()
def jumlah_total(daftar_nilai):
    #inisialisasi
    z=0;
    x = daftar_nilai
    jml = len(x)

    #proses iterasi penjumlahan
    #menggunakan fungsi range
    for i in range(jml):
        y = x[i]
        y = int(y)
        z+=y

    #kembalikan hasil
    return z
A_nama = jumlah_total(new_table.loc[0])
B_nama = jumlah_total(new_table.loc[1])
C_nama = jumlah_total(new_table.loc[2])
D_nama = jumlah_total(new_table.loc[3])
F_nama = jumlah_total(new_table.loc[4])

sum_data = np.array([A_nama,B_nama,C_nama,D_nama,F_nama])
print(sum_data)

new_table = pd.DataFrame({"nama": nama, "Kisaran_harga":Kisaran_harga , "Customer_Service": Customer_Service,
                          "Support_System": Support_System, "Pilihan_pembayaran" : Pilihan_pembayaran, "jumlah_server" : jumlah_server, "Total": sum_data})

sum_col1 = jumlah_total(new_table.Kisaran_harga)
sum_col2 = jumlah_total(new_table.Customer_Service)
sum_col3 = jumlah_total(new_table.Support_System)
sum_col4 = jumlah_total(new_table.Pilihan_pembayaran)
sum_col5 = jumlah_total(new_table.jumlah_server)
# print(new_table)
sum_data1 = np.array([sum_col1,sum_col2,sum_col3,sum_col4,sum_col5])
# print(sum_data1)

providerA = A_nama / sum_col1
providerB= B_nama / sum_col2
providerC = C_nama / sum_col3
providerD = D_nama / sum_col4
providerF = F_nama / sum_col5


print(providerA)
print(providerB)
print(providerC)
print(providerD)
print(providerF)

